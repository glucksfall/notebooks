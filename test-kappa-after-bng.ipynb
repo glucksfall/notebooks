{
 "cells": [
  {
   "cell_type": "code",
   "execution_count": 1,
   "metadata": {},
   "outputs": [
    {
     "name": "stdout",
     "output_type": "stream",
     "text": [
      "1.5.0\n"
     ]
    },
    {
     "data": {
      "text/plain": [
       "Observable('protein', N())"
      ]
     },
     "execution_count": 1,
     "metadata": {},
     "output_type": "execute_result"
    }
   ],
   "source": [
    "import pysb\n",
    "print(pysb.__version__)\n",
    "\n",
    "model = pysb.Model()\n",
    "\n",
    "pysb.Monomer('M')\n",
    "pysb.Monomer('N')\n",
    "\n",
    "pysb.Parameter('rna_syn', 1e-3)\n",
    "pysb.Parameter('rna_deg', 1e-3)\n",
    "pysb.Parameter('prot_syn', 1e-3)\n",
    "pysb.Parameter('prot_deg', 1e-3)\n",
    "\n",
    "pysb.Initial(M(), pysb.Parameter('M_0', 2))\n",
    "pysb.Initial(N(), pysb.Parameter('N_0', 100))\n",
    "\n",
    "pysb.Rule('rna_synthesis', None >> M(), rna_syn)\n",
    "pysb.Rule('rna_degradation', M() >> None, rna_deg)\n",
    "pysb.Rule('protein_synthesis', M() >> M() + N(), prot_syn)\n",
    "pysb.Rule('protein_degradation', M() >> None, prot_deg)\n",
    "\n",
    "pysb.Observable('mRNA', M())\n",
    "pysb.Observable('protein', N())"
   ]
  },
  {
   "cell_type": "code",
   "execution_count": 2,
   "metadata": {},
   "outputs": [],
   "source": [
    "import os\n",
    "from pysb.pathfinder import *\n",
    "\n",
    "if os.uname()[1] == 'spica':\n",
    "    set_path('kasim', '/opt/git-kappa.dev-kasim-d69ddb6/')\n",
    "    set_path('bng', '/opt/git-ruleworld-bionetgen-master/bng2/BioNetGen-2.3.1/')\n",
    "else:\n",
    "    set_path('kasim', '/home/rodrigo/opt/git-kappa.dev-kasim-d69ddb6/')\n",
    "    set_path('bng', '/home/rodrigo/opt/git-ruleworld-bionetgen-master/bng2/BioNetGen-2.3.1/')"
   ]
  },
  {
   "cell_type": "code",
   "execution_count": 3,
   "metadata": {},
   "outputs": [],
   "source": [
    "# BNG SSA simulation (not NFsim!)\n",
    "from pysb import bng\n",
    "ssa_sim = []\n",
    "for i in range(0, 2):\n",
    "    ssa_sim.append(bng.run_ssa(model, t_end = 10000, n_steps = 1000))"
   ]
  },
  {
   "cell_type": "code",
   "execution_count": 4,
   "metadata": {},
   "outputs": [
    {
     "ename": "TypeError",
     "evalue": "can't concat str to bytes",
     "output_type": "error",
     "traceback": [
      "\u001b[0;31m---------------------------------------------------------------------------\u001b[0m",
      "\u001b[0;31mTypeError\u001b[0m                                 Traceback (most recent call last)",
      "\u001b[0;32m<ipython-input-4-36632a9c0e7c>\u001b[0m in \u001b[0;36m<module>\u001b[0;34m()\u001b[0m\n\u001b[1;32m      3\u001b[0m \u001b[0mkappa_sim\u001b[0m \u001b[0;34m=\u001b[0m \u001b[0;34m[\u001b[0m\u001b[0;34m]\u001b[0m\u001b[0;34m\u001b[0m\u001b[0m\n\u001b[1;32m      4\u001b[0m \u001b[0;32mfor\u001b[0m \u001b[0mi\u001b[0m \u001b[0;32min\u001b[0m \u001b[0mrange\u001b[0m\u001b[0;34m(\u001b[0m\u001b[0;36m0\u001b[0m\u001b[0;34m,\u001b[0m \u001b[0;36m2\u001b[0m\u001b[0;34m)\u001b[0m\u001b[0;34m:\u001b[0m\u001b[0;34m\u001b[0m\u001b[0m\n\u001b[0;32m----> 5\u001b[0;31m     \u001b[0mkappa_sim\u001b[0m\u001b[0;34m.\u001b[0m\u001b[0mappend\u001b[0m\u001b[0;34m(\u001b[0m\u001b[0mkappa\u001b[0m\u001b[0;34m.\u001b[0m\u001b[0mrun_simulation\u001b[0m\u001b[0;34m(\u001b[0m\u001b[0mmodel\u001b[0m\u001b[0;34m,\u001b[0m \u001b[0mtime\u001b[0m \u001b[0;34m=\u001b[0m \u001b[0;36m10000\u001b[0m\u001b[0;34m,\u001b[0m \u001b[0mpoints\u001b[0m \u001b[0;34m=\u001b[0m \u001b[0;36m1000\u001b[0m\u001b[0;34m)\u001b[0m\u001b[0;34m)\u001b[0m\u001b[0;34m\u001b[0m\u001b[0m\n\u001b[0m",
      "\u001b[0;32m/usr/local/lib/python3.6/dist-packages/pysb/kappa.py\u001b[0m in \u001b[0;36mrun_simulation\u001b[0;34m(model, time, points, cleanup, output_prefix, output_dir, flux_map, perturbation, seed, verbose)\u001b[0m\n\u001b[1;32m    177\u001b[0m \u001b[0;34m\u001b[0m\u001b[0m\n\u001b[1;32m    178\u001b[0m     \u001b[0;32mif\u001b[0m \u001b[0mp\u001b[0m\u001b[0;34m.\u001b[0m\u001b[0mreturncode\u001b[0m\u001b[0;34m:\u001b[0m\u001b[0;34m\u001b[0m\u001b[0m\n\u001b[0;32m--> 179\u001b[0;31m         \u001b[0;32mraise\u001b[0m \u001b[0mKasimInterfaceError\u001b[0m\u001b[0;34m(\u001b[0m\u001b[0mp_out\u001b[0m \u001b[0;34m+\u001b[0m \u001b[0;34m'\\n'\u001b[0m \u001b[0;34m+\u001b[0m \u001b[0mp_err\u001b[0m\u001b[0;34m)\u001b[0m\u001b[0;34m\u001b[0m\u001b[0m\n\u001b[0m\u001b[1;32m    180\u001b[0m \u001b[0;34m\u001b[0m\u001b[0m\n\u001b[1;32m    181\u001b[0m     \u001b[0;31m# The simulation data, as a numpy array\u001b[0m\u001b[0;34m\u001b[0m\u001b[0;34m\u001b[0m\u001b[0m\n",
      "\u001b[0;31mTypeError\u001b[0m: can't concat str to bytes"
     ]
    }
   ],
   "source": [
    "# KASIM simulation\n",
    "from pysb import kappa\n",
    "kappa_sim = []\n",
    "for i in range(0, 2):\n",
    "    kappa_sim.append(kappa.run_simulation(model, time = 10000, points = 1000))"
   ]
  },
  {
   "cell_type": "code",
   "execution_count": null,
   "metadata": {},
   "outputs": [],
   "source": [
    "# ODE simulation\n",
    "from pysb.integrate import odesolve\n",
    "ode_sim = odesolve(model, range(0, 10001))"
   ]
  }
 ],
 "metadata": {
  "kernelspec": {
   "display_name": "Python 3",
   "language": "python",
   "name": "python3"
  },
  "language_info": {
   "codemirror_mode": {
    "name": "ipython",
    "version": 3
   },
   "file_extension": ".py",
   "mimetype": "text/x-python",
   "name": "python",
   "nbconvert_exporter": "python",
   "pygments_lexer": "ipython3",
   "version": "3.6.3"
  }
 },
 "nbformat": 4,
 "nbformat_minor": 2
}
